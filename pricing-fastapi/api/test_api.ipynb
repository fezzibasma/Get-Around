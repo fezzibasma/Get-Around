{
 "cells": [
  {
   "cell_type": "code",
   "execution_count": 15,
   "metadata": {},
   "outputs": [
    {
     "data": {
      "text/plain": [
       "b'\"Welcome to the GetAround API ! This app is made to give you the optimum price at which you should rent your car on the GetAround app.The model used for prediction is a Extreme Gradient Boost trained from data collected by the GetAround data scientits team.\"'"
      ]
     },
     "execution_count": 15,
     "metadata": {},
     "output_type": "execute_result"
    }
   ],
   "source": [
    "import requests\n",
    "import json\n",
    "r = requests.get(\"http://0.0.0.0:4000\")\n",
    "# r = requests.get(\"https://app-api-getaround.herokuapp.com\")\n",
    "r.content"
   ]
  },
  {
   "cell_type": "code",
   "execution_count": 16,
   "metadata": {},
   "outputs": [
    {
     "data": {
      "text/plain": [
       "b'{\"2514\":{\"model_key\":\"Maserati\",\"mileage\":167779,\"engine_power\":225,\"fuel\":\"diesel\",\"paint_color\":\"black\",\"car_type\":\"sedan\",\"private_parking_available\":true,\"has_gps\":true,\"has_air_conditioning\":true,\"automatic_car\":true,\"has_getaround_connect\":true,\"has_speed_regulator\":false,\"winter_tires\":true,\"rental_price_per_day\":149},\"2581\":{\"model_key\":\"Maserati\",\"mileage\":172367,\"engine_power\":230,\"fuel\":\"diesel\",\"paint_color\":\"grey\",\"car_type\":\"sedan\",\"private_parking_available\":true,\"has_gps\":true,\"has_air_conditioning\":true,\"automatic_car\":true,\"has_getaround_connect\":true,\"has_speed_regulator\":true,\"winter_tires\":true,\"rental_price_per_day\":168},\"2689\":{\"model_key\":\"Maserati\",\"mileage\":185874,\"engine_power\":225,\"fuel\":\"diesel\",\"paint_color\":\"black\",\"car_type\":\"sedan\",\"private_parking_available\":true,\"has_gps\":true,\"has_air_conditioning\":true,\"automatic_car\":false,\"has_getaround_connect\":true,\"has_speed_regulator\":false,\"winter_tires\":true,\"rental_price_per_day\":150},\"2701\":{\"model_key\":\"Maserati\",\"mileage\":202920,\"engine_power\":240,\"fuel\":\"petrol\",\"paint_color\":\"silver\",\"car_type\":\"sedan\",\"private_parking_available\":true,\"has_gps\":true,\"has_air_conditioning\":true,\"automatic_car\":false,\"has_getaround_connect\":true,\"has_speed_regulator\":true,\"winter_tires\":true,\"rental_price_per_day\":135},\"2738\":{\"model_key\":\"Maserati\",\"mileage\":141089,\"engine_power\":230,\"fuel\":\"diesel\",\"paint_color\":\"black\",\"car_type\":\"sedan\",\"private_parking_available\":true,\"has_gps\":true,\"has_air_conditioning\":true,\"automatic_car\":true,\"has_getaround_connect\":true,\"has_speed_regulator\":true,\"winter_tires\":true,\"rental_price_per_day\":182},\"2794\":{\"model_key\":\"Maserati\",\"mileage\":233190,\"engine_power\":225,\"fuel\":\"diesel\",\"paint_color\":\"black\",\"car_type\":\"sedan\",\"private_parking_available\":true,\"has_gps\":true,\"has_air_conditioning\":false,\"automatic_car\":true,\"has_getaround_connect\":true,\"has_speed_regulator\":false,\"winter_tires\":true,\"rental_price_per_day\":155},\"2804\":{\"model_key\":\"Maserati\",\"mileage\":109003,\"engine_power\":240,\"fuel\":\"petrol\",\"paint_color\":\"grey\",\"car_type\":\"sedan\",\"private_parking_available\":true,\"has_gps\":true,\"has_air_conditioning\":false,\"automatic_car\":false,\"has_getaround_connect\":true,\"has_speed_regulator\":false,\"winter_tires\":true,\"rental_price_per_day\":136},\"2824\":{\"model_key\":\"Maserati\",\"mileage\":58299,\"engine_power\":235,\"fuel\":\"diesel\",\"paint_color\":\"grey\",\"car_type\":\"sedan\",\"private_parking_available\":true,\"has_gps\":true,\"has_air_conditioning\":false,\"automatic_car\":true,\"has_getaround_connect\":false,\"has_speed_regulator\":false,\"winter_tires\":true,\"rental_price_per_day\":252},\"2933\":{\"model_key\":\"Maserati\",\"mileage\":109285,\"engine_power\":225,\"fuel\":\"diesel\",\"paint_color\":\"grey\",\"car_type\":\"sedan\",\"private_parking_available\":true,\"has_gps\":true,\"has_air_conditioning\":true,\"automatic_car\":false,\"has_getaround_connect\":true,\"has_speed_regulator\":false,\"winter_tires\":true,\"rental_price_per_day\":171},\"2943\":{\"model_key\":\"Maserati\",\"mileage\":294359,\"engine_power\":225,\"fuel\":\"diesel\",\"paint_color\":\"black\",\"car_type\":\"sedan\",\"private_parking_available\":true,\"has_gps\":true,\"has_air_conditioning\":true,\"automatic_car\":false,\"has_getaround_connect\":true,\"has_speed_regulator\":false,\"winter_tires\":true,\"rental_price_per_day\":135},\"3069\":{\"model_key\":\"Maserati\",\"mileage\":42655,\"engine_power\":235,\"fuel\":\"diesel\",\"paint_color\":\"grey\",\"car_type\":\"sedan\",\"private_parking_available\":true,\"has_gps\":true,\"has_air_conditioning\":true,\"automatic_car\":true,\"has_getaround_connect\":false,\"has_speed_regulator\":false,\"winter_tires\":true,\"rental_price_per_day\":256},\"3070\":{\"model_key\":\"Maserati\",\"mileage\":109904,\"engine_power\":225,\"fuel\":\"diesel\",\"paint_color\":\"grey\",\"car_type\":\"sedan\",\"private_parking_available\":true,\"has_gps\":true,\"has_air_conditioning\":true,\"automatic_car\":false,\"has_getaround_connect\":true,\"has_speed_regulator\":false,\"winter_tires\":true,\"rental_price_per_day\":175},\"3119\":{\"model_key\":\"Maserati\",\"mileage\":82647,\"engine_power\":230,\"fuel\":\"diesel\",\"paint_color\":\"black\",\"car_type\":\"sedan\",\"private_parking_available\":true,\"has_gps\":true,\"has_air_conditioning\":true,\"automatic_car\":false,\"has_getaround_connect\":false,\"has_speed_regulator\":false,\"winter_tires\":true,\"rental_price_per_day\":181},\"3240\":{\"model_key\":\"Maserati\",\"mileage\":114983,\"engine_power\":230,\"fuel\":\"diesel\",\"paint_color\":\"black\",\"car_type\":\"sedan\",\"private_parking_available\":true,\"has_gps\":true,\"has_air_conditioning\":true,\"automatic_car\":true,\"has_getaround_connect\":true,\"has_speed_regulator\":false,\"winter_tires\":true,\"rental_price_per_day\":190},\"3269\":{\"model_key\":\"Maserati\",\"mileage\":166286,\"engine_power\":230,\"fuel\":\"diesel\",\"paint_color\":\"brown\",\"car_type\":\"sedan\",\"private_parking_available\":true,\"has_gps\":true,\"has_air_conditioning\":true,\"automatic_car\":true,\"has_getaround_connect\":false,\"has_speed_regulator\":true,\"winter_tires\":true,\"rental_price_per_day\":177},\"3320\":{\"model_key\":\"Maserati\",\"mileage\":25858,\"engine_power\":235,\"fuel\":\"diesel\",\"paint_color\":\"black\",\"car_type\":\"sedan\",\"private_parking_available\":true,\"has_gps\":true,\"has_air_conditioning\":false,\"automatic_car\":true,\"has_getaround_connect\":false,\"has_speed_regulator\":false,\"winter_tires\":true,\"rental_price_per_day\":261},\"3345\":{\"model_key\":\"Maserati\",\"mileage\":25571,\"engine_power\":235,\"fuel\":\"diesel\",\"paint_color\":\"black\",\"car_type\":\"sedan\",\"private_parking_available\":true,\"has_gps\":true,\"has_air_conditioning\":false,\"automatic_car\":true,\"has_getaround_connect\":false,\"has_speed_regulator\":false,\"winter_tires\":true,\"rental_price_per_day\":261},\"3595\":{\"model_key\":\"Maserati\",\"mileage\":34624,\"engine_power\":235,\"fuel\":\"diesel\",\"paint_color\":\"grey\",\"car_type\":\"sedan\",\"private_parking_available\":true,\"has_gps\":true,\"has_air_conditioning\":true,\"automatic_car\":true,\"has_getaround_connect\":false,\"has_speed_regulator\":true,\"winter_tires\":true,\"rental_price_per_day\":262}}'"
      ]
     },
     "execution_count": 16,
     "metadata": {},
     "output_type": "execute_result"
    }
   ],
   "source": [
    "r = requests.get(\"http://localhost:4000/Search_model_key/Maserati\")\n",
    "r.content"
   ]
  },
  {
   "cell_type": "code",
   "execution_count": 17,
   "metadata": {},
   "outputs": [
    {
     "name": "stdout",
     "output_type": "stream",
     "text": [
      "{'predictions': 151.20782470703125}\n"
     ]
    }
   ],
   "source": [
    "response = requests.post(\"http://0.0.0.0:4000/predict\",\n",
    "    json={\n",
    "        \"model_key\" : \"Peugeot\",\n",
    "        \"mileage\" : 14699,\n",
    "        \"engine_power\" : 100,\n",
    "        \"fuel\" : \"diesel\",\n",
    "        \"paint_color\" : \"black\",\n",
    "        \"car_type\" : \"sedan\",\n",
    "        \"private_parking_available\" : False,\n",
    "        \"has_gps\" : True,\n",
    "        \"has_air_conditioning\" : False,\n",
    "        \"automatic_car\" : False,\n",
    "        \"has_getaround_connect\" : False,\n",
    "        \"has_speed_regulator\" : True,\n",
    "        \"winter_tires\" : True\n",
    "        })\n",
    "\n",
    "print(response.json())"
   ]
  },
  {
   "cell_type": "code",
   "execution_count": null,
   "metadata": {},
   "outputs": [],
   "source": []
  }
 ],
 "metadata": {
  "kernelspec": {
   "display_name": "base",
   "language": "python",
   "name": "python3"
  },
  "language_info": {
   "codemirror_mode": {
    "name": "ipython",
    "version": 3
   },
   "file_extension": ".py",
   "mimetype": "text/x-python",
   "name": "python",
   "nbconvert_exporter": "python",
   "pygments_lexer": "ipython3",
   "version": "3.9.12"
  },
  "orig_nbformat": 4,
  "vscode": {
   "interpreter": {
    "hash": "40d3a090f54c6569ab1632332b64b2c03c39dcf918b08424e98f38b5ae0af88f"
   }
  }
 },
 "nbformat": 4,
 "nbformat_minor": 2
}
